{
 "cells": [
  {
   "cell_type": "markdown",
   "metadata": {},
   "source": [
    "<center>\n",
    "    <img src=\"https://s3-api.us-geo.objectstorage.softlayer.net/cf-courses-data/CognitiveClass/Logos/organization_logo/organization_logo.png\" width=\"300\" alt=\"cognitiveclass.ai logo\"  />\n",
    "</center>\n"
   ]
  },
  {
   "cell_type": "markdown",
   "metadata": {},
   "source": [
    "#### Add your code below following the instructions given in the course\n"
   ]
  },
  {
   "cell_type": "code",
   "execution_count": 5,
   "metadata": {},
   "outputs": [],
   "source": [
    "# Assignment Data Science Tools"
   ]
  },
  {
   "cell_type": "code",
   "execution_count": 7,
   "metadata": {},
   "outputs": [],
   "source": [
    " ## **Steven Li**  I am not a Superman."
   ]
  },
  {
   "cell_type": "markdown",
   "metadata": {},
   "source": [
    "<a href=\"https://dataplatform.cloud.ibm.com/gallery\">IBM Cloud Gallery</a> "
   ]
  },
  {
   "cell_type": "markdown",
   "metadata": {},
   "source": [
    "*I like numnbers. Data is powerful.*?"
   ]
  },
  {
   "cell_type": "markdown",
   "metadata": {},
   "source": [
    "### In the following cell (cell 5), the code will read the first five rows of a .csv file using pandas."
   ]
  },
  {
   "cell_type": "markdown",
   "metadata": {},
   "source": [
    "# Import pandas library\n",
    "import pandas\n",
    "# Load a csv file into pandas DataFrame\n",
    "df = pandas.read_csv(\"sample.csv\", nrows=5)\n",
    "# Display first-five rows of the loaded csv file\n",
    "display(df)"
   ]
  },
  {
   "cell_type": "code",
   "execution_count": null,
   "metadata": {},
   "outputs": [],
   "source": [
    "***\n",
    "* Bullet List Item 01\n",
    "* Bullet List Item 02\n",
    "* Bullet List Item 03\n",
    "1. Numbered List Item 01\n",
    "2. Numbered List Item 02\n",
    "3. Numbered List Item 03\n",
    "| Column 01 | Column 02 | Column 03 | Column 04 | Column 05 |\n",
    "|-----------|-----------|-----------|-----------|-----------|\n",
    "| Cell 11 | Cell 12 | Cell 13 | Cell 14 | Cell 15 |\n",
    "| Cell 21 | Cell 22 | Cell 23 | Cell 24 | Cell 25 |\n",
    "\n",
    "[hyperlink 01](link)\n",
    "\n",
    "[hyperlink 02](link)\n",
    "\n",
    "![Image Text](path/img.jpg \"Sample Image\")\n",
    "\n",
    "print(\"THIS IS CODE\")\n",
    "\n",
    "> This is a blocked quote"
   ]
  },
  {
   "cell_type": "markdown",
   "metadata": {},
   "source": [
    "sample.csv"
   ]
  },
  {
   "cell_type": "markdown",
   "metadata": {},
   "source": [
    "Student Name,Physics,Mathematics,Chemistry,English,Data Science\n",
    "Herbert Gilbert,72,64,82,74,99\n",
    "Ryan Smith,82,88,97,93,62\n",
    "James Cave,88,100,90,74,82\n",
    "Terry Inman,96,77,50,97,65\n",
    "William Cano,70,99,78,95,98\n",
    "Ashley Harper,65,92,85,52,75\n",
    "Dean Nagase,54,77,52,82,68\n",
    "Gregory Lucas,88,54,97,98,53\n",
    "Carmen Timmins,59,53,79,59,75\n",
    "Wayne Clark,56,62,88,96,81"
   ]
  },
  {
   "cell_type": "code",
   "execution_count": 11,
   "metadata": {},
   "outputs": [],
   "source": [
    "# Header 1"
   ]
  },
  {
   "cell_type": "code",
   "execution_count": null,
   "metadata": {},
   "outputs": [],
   "source": []
  }
 ],
 "metadata": {
  "kernelspec": {
   "display_name": "Python",
   "language": "python",
   "name": "conda-env-python-py"
  },
  "language_info": {
   "codemirror_mode": {
    "name": "ipython",
    "version": 3
   },
   "file_extension": ".py",
   "mimetype": "text/x-python",
   "name": "python",
   "nbconvert_exporter": "python",
   "pygments_lexer": "ipython3",
   "version": "3.7.12"
  }
 },
 "nbformat": 4,
 "nbformat_minor": 4
}
